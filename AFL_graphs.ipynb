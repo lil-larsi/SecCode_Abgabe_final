{
 "cells": [
  {
   "cell_type": "code",
   "execution_count": null,
   "id": "730b0d69",
   "metadata": {},
   "outputs": [],
   "source": [
    "#first row of iput files is deleted by hand\n",
    "#input file\n",
    "inputfile=\"plot_data_bmp\"\n",
    "outputfile=\"plot_data_bmp_without_commas\"\n",
    "fin = open(inputfile, \"rt\")\n",
    "#output file to write the result to\n",
    "fout = open(outputfile, \"wt\")\n",
    "#for each line in the input file\n",
    "for line in fin:\n",
    "\t#read replace the string and write to output file\n",
    "\tfout.write(line.replace(',', ''))\n",
    "#close input and output files\n",
    "fin.close()\n",
    "fout.close()"
   ]
  },
  {
   "cell_type": "code",
   "execution_count": null,
   "id": "a3768a26",
   "metadata": {},
   "outputs": [],
   "source": [
    "f = open(outputfile, 'r')\n",
    "\n",
    "rows = []\n",
    "\n",
    "for line in f:\n",
    "    # Split on any whitespace (including tab characters)\n",
    "    row = line.split()\n",
    "    rows.append(row)"
   ]
  },
  {
   "cell_type": "code",
   "execution_count": null,
   "id": "ee73ba6b",
   "metadata": {},
   "outputs": [],
   "source": [
    "print(type(rows))"
   ]
  },
  {
   "cell_type": "code",
   "execution_count": null,
   "id": "ed081fdd",
   "metadata": {},
   "outputs": [],
   "source": [
    "print(rows[1][0])"
   ]
  },
  {
   "cell_type": "code",
   "execution_count": null,
   "id": "3d151fd3",
   "metadata": {},
   "outputs": [],
   "source": [
    "counter=0\n",
    "for item in rows:\n",
    "    counter = counter + 1\n",
    "print(counter)"
   ]
  },
  {
   "cell_type": "code",
   "execution_count": null,
   "id": "0e64e01b",
   "metadata": {},
   "outputs": [],
   "source": [
    "time = []\n",
    "crashes = []\n",
    "exec_per_sec = []\n",
    "for i in range(0, counter):\n",
    "    time.append(rows[i][0])\n",
    "    crashes.append(rows[i][7])\n",
    "    exec_per_sec.append(rows[i][10])"
   ]
  },
  {
   "cell_type": "code",
   "execution_count": null,
   "id": "b7b683fe",
   "metadata": {},
   "outputs": [],
   "source": [
    "time_int = []\n",
    "crashes_int=[]\n",
    "exec_per_sec_float = []\n",
    "for i in range(0, counter):\n",
    "    time_int.append(int(time[i]))\n",
    "    exec_per_sec_float.append(float(exec_per_sec[i]))\n",
    "    crashes_int.append(int(crashes[i]))"
   ]
  },
  {
   "cell_type": "code",
   "execution_count": null,
   "id": "30c98a66",
   "metadata": {},
   "outputs": [],
   "source": [
    "time_differences = []\n",
    "for i in range(0, counter-1):\n",
    "    time_differences.append(time_int[i+1]-time_int[i])"
   ]
  },
  {
   "cell_type": "code",
   "execution_count": null,
   "id": "c58ed112",
   "metadata": {},
   "outputs": [],
   "source": [
    "executions = []\n",
    "time_in_min =[]\n",
    "\n",
    "for i in range(0, counter):\n",
    "    if i == 0:\n",
    "        value=0\n",
    "        valuetime=0\n",
    "    elif i == 1:\n",
    "        value=time_differences[i-1]*exec_per_sec_float[i-1]\n",
    "        valuetime=time_differences[i-1]/60\n",
    "    else:\n",
    "        value = executions[i-1] + time_differences[i-1]*exec_per_sec_float[i-1]\n",
    "        valuetime =  time_in_min[i-1] + (time_differences[i-1]/60)\n",
    "    executions.append(value)\n",
    "    time_in_min.append(valuetime)"
   ]
  },
  {
   "cell_type": "code",
   "execution_count": null,
   "id": "6038bd1b",
   "metadata": {},
   "outputs": [],
   "source": [
    "for i in range(0,counter):\n",
    "    executions[i] = executions[i]/1e6\n",
    "print(executions[counter-1])"
   ]
  },
  {
   "cell_type": "code",
   "execution_count": null,
   "id": "5d822e12",
   "metadata": {},
   "outputs": [],
   "source": [
    "import matplotlib.pyplot as plt\n",
    "import numpy as np\n",
    "\n",
    "font = {'family' : 'normal',\n",
    "  'weight' : 'bold',\n",
    "  'size' : 12}\n",
    "plt.rc('font', **font)\n",
    "\n",
    "# X axis parameter:\n",
    "xaxis = np.array(time_in_min)\n",
    "\n",
    "# Y axis parameter:\n",
    "yaxis = np.array(executions)\n",
    "\n",
    "# displaying the title\n",
    "plt.title(\"AFL Gesamtausführungen\")\n",
    "plt.xlabel(\"Zeit in min\")\n",
    "plt.ylabel(\"Anzahl Ausführungen in Mio\")\n",
    "plt.axis([0, 30, 0,2.5 ])\n",
    "plt.plot(xaxis, yaxis)\n",
    "plt.show()"
   ]
  },
  {
   "cell_type": "code",
   "execution_count": null,
   "id": "fdd05d2c",
   "metadata": {},
   "outputs": [],
   "source": [
    "yaxis = np.array(crashes_int)\n",
    "\n",
    "# displaying the title\n",
    "plt.title(\"AFL Crashes\")\n",
    "plt.xlabel(\"Zeit in min\")\n",
    "plt.ylabel(\"Anzahl Crashes\")\n",
    "\n",
    "plt.yticks(np.arange(0, 5, 1))\n",
    "plt.plot(xaxis, yaxis)\n",
    "plt.show()"
   ]
  },
  {
   "cell_type": "code",
   "execution_count": null,
   "id": "cc8d4bef",
   "metadata": {},
   "outputs": [],
   "source": []
  },
  {
   "cell_type": "code",
   "execution_count": null,
   "id": "a81b4faf",
   "metadata": {},
   "outputs": [],
   "source": []
  }
 ],
 "metadata": {
  "kernelspec": {
   "display_name": "Python 3",
   "language": "python",
   "name": "python3"
  },
  "language_info": {
   "codemirror_mode": {
    "name": "ipython",
    "version": 3
   },
   "file_extension": ".py",
   "mimetype": "text/x-python",
   "name": "python",
   "nbconvert_exporter": "python",
   "pygments_lexer": "ipython3",
   "version": "3.8.8"
  }
 },
 "nbformat": 4,
 "nbformat_minor": 5
}
