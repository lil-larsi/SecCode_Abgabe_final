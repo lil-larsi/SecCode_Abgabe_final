{
 "cells": [
  {
   "cell_type": "code",
   "execution_count": null,
   "id": "bf31fc43",
   "metadata": {},
   "outputs": [],
   "source": [
    "import matplotlib.pyplot as plt\n",
    "import numpy as np"
   ]
  },
  {
   "cell_type": "code",
   "execution_count": null,
   "id": "0d435e46",
   "metadata": {},
   "outputs": [],
   "source": [
    "methoden = ['Mutation-Based (Kodierung)', 'Guided-Mutation-Based (Line-Cov Kodierung)', 'AFL (Kodierung)']\n",
    "y_werte = [13.63 , 12.71, 2127.73]\n",
    "y_pos = np.arange(len(y_werte))"
   ]
  },
  {
   "cell_type": "code",
   "execution_count": null,
   "id": "5f341798",
   "metadata": {},
   "outputs": [],
   "source": [
    "plt.title('verschiedene dynamische Methoden')\n",
    "plt.ylabel('Ausführungen pro Sekunde')\n",
    "couleur = ['#000000', '#dbb243', '#2e42d3']\n",
    "plt.xticks(rotation=90)\n",
    "plt.bar(x =y_pos, height=y_werte, align='center', alpha=0.6, color=couleur, tick_label=methoden)\n",
    "plt.savefig('Ausfuerungen.png')"
   ]
  },
  {
   "cell_type": "code",
   "execution_count": null,
   "id": "2a855ae6",
   "metadata": {},
   "outputs": [],
   "source": [
    "methoden = ['Mutation-Based (Kodierung)', 'Guided-Mutation-Based (Line-Cov Kodierung)', 'AFL (Kodierung)']\n",
    "y_werte = [0.61 , 0.22, 0.06]\n",
    "y_pos = np.arange(len(y_werte))"
   ]
  },
  {
   "cell_type": "code",
   "execution_count": null,
   "id": "95999ec4",
   "metadata": {},
   "outputs": [],
   "source": [
    "plt.title('Crashes pro tausend Ausführungen')\n",
    "plt.ylabel('Crashes pro tausend Ausführungen')\n",
    "couleur = ['#000000', '#dbb243', '#2e42d3', '#e54fe3', '#f23434']\n",
    "plt.xticks(rotation=90)\n",
    "plt.bar(x =y_pos, height=y_werte, align='center', alpha=0.6, color=couleur, tick_label=methoden)\n",
    "plt.savefig('crash.png')"
   ]
  },
  {
   "cell_type": "code",
   "execution_count": null,
   "id": "d0755163",
   "metadata": {},
   "outputs": [],
   "source": []
  }
 ],
 "metadata": {
  "kernelspec": {
   "display_name": "Python 3",
   "language": "python",
   "name": "python3"
  },
  "language_info": {
   "codemirror_mode": {
    "name": "ipython",
    "version": 3
   },
   "file_extension": ".py",
   "mimetype": "text/x-python",
   "name": "python",
   "nbconvert_exporter": "python",
   "pygments_lexer": "ipython3",
   "version": "3.8.8"
  }
 },
 "nbformat": 4,
 "nbformat_minor": 5
}
